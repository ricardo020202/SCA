{
 "cells": [
  {
   "cell_type": "code",
   "execution_count": 5,
   "id": "40992bfd",
   "metadata": {},
   "outputs": [],
   "source": [
    "from visualkeras import layered_view\n",
    "from tensorflow.keras.models import load_model"
   ]
  },
  {
   "cell_type": "code",
   "execution_count": 6,
   "id": "4bf26037",
   "metadata": {},
   "outputs": [],
   "source": [
    "model = 'models/ascad_model1.h5'"
   ]
  },
  {
   "cell_type": "code",
   "execution_count": 7,
   "id": "afa26521",
   "metadata": {},
   "outputs": [
    {
     "name": "stderr",
     "output_type": "stream",
     "text": [
      "WARNING:absl:Compiled the loaded model, but the compiled metrics have yet to be built. `model.compile_metrics` will be empty until you train or evaluate the model.\n"
     ]
    }
   ],
   "source": [
    "loaded_model = load_model(model)\n",
    "layered_view(loaded_model).show()"
   ]
  }
 ],
 "metadata": {
  "kernelspec": {
   "display_name": ".venv",
   "language": "python",
   "name": "python3"
  },
  "language_info": {
   "codemirror_mode": {
    "name": "ipython",
    "version": 3
   },
   "file_extension": ".py",
   "mimetype": "text/x-python",
   "name": "python",
   "nbconvert_exporter": "python",
   "pygments_lexer": "ipython3",
   "version": "3.11.0"
  }
 },
 "nbformat": 4,
 "nbformat_minor": 5
}
